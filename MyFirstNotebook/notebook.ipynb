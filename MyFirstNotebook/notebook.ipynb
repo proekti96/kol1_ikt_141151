{
 "cells": [
  {
   "cell_type": "code",
   "execution_count": 1,
   "metadata": {},
   "outputs": [],
   "source": [
    "import numpy as np"
   ]
  },
  {
   "cell_type": "markdown",
   "metadata": {},
   "source": [
    "Краток опис:\n",
    "Овој труд имал за цел да го проучи г-соодносот на фибер влакната, како сооднос на внатрешниот и надворешниот дијаметар на миелинската обвивка на миелинизираниот аксон. Снимањето во живо на овој г-сооднос, го зголемува нашето знаење за нервниот систем, како и способноста да дијагностицираме, следиме и лекуваме болести. Исто така, во рамки на овој труд, се разгледува методологијата за снимање на г-соодносот со Магнетна Резонанца, како и познатите стапици и предизвици со кои може да се соочат луѓето. Трудот ја потенцира големата важност што ја има снимањето со г-соодносот и како истото ни помага да ги разбереме болестите поврзани со миелинската обвивка, да развиеме терапии и да ја следиме прогресијата на заболувањето."
   ]
  }
 ],
 "metadata": {
  "kernelspec": {
   "display_name": "Python 3",
   "language": "python",
   "name": "python3"
  },
  "language_info": {
   "codemirror_mode": {
    "name": "ipython",
    "version": 3
   },
   "file_extension": ".py",
   "mimetype": "text/x-python",
   "name": "python",
   "nbconvert_exporter": "python",
   "pygments_lexer": "ipython3",
   "version": "3.8.5"
  },
  "widgets": {
   "application/vnd.jupyter.widget-state+json": {
    "state": {},
    "version_major": 2,
    "version_minor": 0
   }
  }
 },
 "nbformat": 4,
 "nbformat_minor": 4
}
